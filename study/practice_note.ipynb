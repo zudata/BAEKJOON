{
 "cells": [
  {
   "cell_type": "markdown",
   "id": "fa503bd8",
   "metadata": {},
   "source": [
    "### 제주도 도로 교통량 예측 AI 경진대회\n",
    "\n",
    "#### CatBoost + XGBoost + LGBM Ensemble 모델 (Private 3.08359) (게더타운주민들)"
   ]
  },
  {
   "cell_type": "markdown",
   "id": "34ecb4d5",
   "metadata": {},
   "source": [
    "- 어린이보호구역 : https://www.data.go.kr/data/15012891/standard.do\n",
    "- 무인교통단속카메라 : https://www.data.go.kr/data/15028200/standard.do\n",
    "- 전국초중등학교기본정보 : https://www.data.go.kr/data/15107734/standard.do\n",
    "- 제주도 주차장 : https://www.data.go.kr/data/15012896/standard.do"
   ]
  },
  {
   "cell_type": "code",
   "execution_count": 1,
   "id": "33fe849a",
   "metadata": {},
   "outputs": [],
   "source": [
    "import pandas as pd\n",
    "import numpy as np\n",
    "\n",
    "import warnings\n",
    "warnings.filterwarnings('ignore')\n",
    "\n",
    "import gc\n",
    "\n",
    "from sklearn.preprocessing import LabelEncoder\n",
    "from haversine import haversine\n",
    "from sklearn.cluster import KMeans\n",
    "\n",
    "import math\n",
    "\n",
    "from sklearn.model_selection import StratifiedKFold\n",
    "from sklearn.metrics import mean_absolute_error\n",
    "from catboost import CatBoostRegressor, Pool\n",
    "from lightgbm import LGBMRegressor\n",
    "from xgboost import XGBRegressor"
   ]
  },
  {
   "cell_type": "markdown",
   "id": "4ebc1913",
   "metadata": {},
   "source": [
    "### Data"
   ]
  },
  {
   "cell_type": "code",
   "execution_count": 2,
   "id": "45c381ab",
   "metadata": {},
   "outputs": [],
   "source": [
    "def csv_to_parquet(csv_path, save_name):\n",
    "    df = pd.read_csv(csv_path)\n",
    "    df.to_parquet(f'data/jeju/{save_name}.parquet')\n",
    "    del df\n",
    "    gc.collect()\n",
    "    print(save_name, 'Done.')"
   ]
  },
  {
   "cell_type": "code",
   "execution_count": 3,
   "id": "f7441e6a",
   "metadata": {},
   "outputs": [
    {
     "name": "stdout",
     "output_type": "stream",
     "text": [
      "train Done.\n",
      "test Done.\n"
     ]
    }
   ],
   "source": [
    "csv_to_parquet('data/jeju/train.csv', 'train')\n",
    "csv_to_parquet('data/jeju/test.csv', 'test')"
   ]
  },
  {
   "cell_type": "code",
   "execution_count": 4,
   "id": "de811b1c",
   "metadata": {},
   "outputs": [],
   "source": [
    "train = pd.read_parquet('data/jeju/train.parquet')\n",
    "test = pd.read_parquet('data/jeju/test.parquet')\n",
    "\n",
    "# 불필요 컬럼 삭제\n",
    "train.drop(['vehicle_restricted', 'id', 'height_restricted'], axis = 1, inplace = True)\n",
    "test.drop(['vehicle_restricted', 'id', 'height_restricted'], axis = 1, inplace = True)"
   ]
  },
  {
   "cell_type": "markdown",
   "id": "00fe40fc",
   "metadata": {},
   "source": [
    "### Feature Engineering"
   ]
  },
  {
   "cell_type": "markdown",
   "id": "9c2efbc3",
   "metadata": {},
   "source": [
    "#### 1. 도로 주변 시설 및 구역 수(train 기준)\n",
    "- 공공 데이터 포털에서 2022년 12월 이전 아래 5가지 표준 데이터를 사용\n",
    "    - 무인교통단속카메라\n",
    "    - 전국초중등학교기본정보\n",
    "    - 어린이보호구역\n",
    "    - 제주시 주차장 정보\n",
    "    - 서귀포시 주차장 정보\n",
    "- train의 start_node, end_node의 위경도 좌표의 unique 값만을 활용"
   ]
  },
  {
   "cell_type": "code",
   "execution_count": 5,
   "id": "51dd97f8",
   "metadata": {},
   "outputs": [],
   "source": [
    "# train의 start_node, end_node의 위경도 좌표의 unique 값\n",
    "gps_comb = train[['start_latitude', 'start_longitude', 'end_latitude', 'end_longitude']].drop_duplicates()\n",
    "\n",
    "# 무인교통단속카메라 - 데이터 내려감\n",
    "# cctv = pd.read_csv('경찰청_제주특별자치도경찰청_무인교통단속카메라_20220616.csv', encoding = 'cp949')\n",
    "# cctv = cctv.iloc[:, 3:-7].drop(['소재지도로명주소', '소재지지번주소'], axis = 1)\n",
    "\n",
    "# 초중등학교\n",
    "school = pd.read_csv('data/jeju/한국교육학술정보원_초중등학교기본정보_20221213.csv', encoding = 'cp949')\n",
    "school = school[(school['데이터기준일자'] <= '2022-12-01') & (school['시도교육청명'].str.contains('제주'))]\n",
    "\n",
    "# 어린이 보호 구역\n",
    "child = pd.read_csv('data/jeju/제주특별자치도_어린이보호구역_20221201.csv', encoding = 'cp949')\n",
    "\n",
    "# 제주시 주차장\n",
    "parking1 = pd.read_csv('data/jeju/제주특별자치도_제주시_주차장정보_20210818_1630391997093_77385.csv', encoding = 'cp949')\n",
    "parking1.dropna(subset = ['위도', '경도'], inplace = True)\n",
    "\n",
    "# 서귀포시 주차장\n",
    "parking2 = pd.read_csv('data/jeju/제주특별자치도_서귀포시_주차장정보_20221215.csv', encoding = 'cp949')"
   ]
  },
  {
   "cell_type": "code",
   "execution_count": 6,
   "id": "d01d15af",
   "metadata": {},
   "outputs": [],
   "source": [
    "# 직선과 점 사이의 거리 방정식 활용\n",
    "def cal_dist(x1, y1, x2, y2, a, b):\n",
    "    area = abs((x1 - a) * (y2 - b) - (y1 - b) * (x2 - a))\n",
    "    AB = ((x1 - x2) ** 2 + (y1 - y2) ** 2) ** 0.5\n",
    "    distance = area / AB\n",
    "    return distance"
   ]
  },
  {
   "cell_type": "code",
   "execution_count": 7,
   "id": "e3779640",
   "metadata": {},
   "outputs": [],
   "source": [
    "# train 데이터의 도로와 각 시설 및 구역의 위경도 좌표의 거리(위경도 좌표상 거리)가 0.0005이내일 경우 count +\n",
    "def get_node_cnt(gps_values, infra_values):\n",
    "    cnt = []\n",
    "    for y1, x1, y2, x2 in gps_values.values:\n",
    "        i = 0\n",
    "        for a, b in infra_values.values:\n",
    "            dist = cal_dist(x1, y1, x2, y2, a, b)\n",
    "            if dist < 0.0005:\n",
    "                i += 1\n",
    "            else:\n",
    "                pass\n",
    "        cnt.append(i)\n",
    "    return cnt"
   ]
  },
  {
   "cell_type": "code",
   "execution_count": 8,
   "id": "2c3ffd8f",
   "metadata": {},
   "outputs": [
    {
     "data": {
      "text/html": [
       "<div>\n",
       "<style scoped>\n",
       "    .dataframe tbody tr th:only-of-type {\n",
       "        vertical-align: middle;\n",
       "    }\n",
       "\n",
       "    .dataframe tbody tr th {\n",
       "        vertical-align: top;\n",
       "    }\n",
       "\n",
       "    .dataframe thead th {\n",
       "        text-align: right;\n",
       "    }\n",
       "</style>\n",
       "<table border=\"1\" class=\"dataframe\">\n",
       "  <thead>\n",
       "    <tr style=\"text-align: right;\">\n",
       "      <th></th>\n",
       "      <th>시도교육청코드</th>\n",
       "      <th>시도교육청명</th>\n",
       "      <th>교육지원청코드</th>\n",
       "      <th>교육지원청명</th>\n",
       "      <th>시도코드</th>\n",
       "      <th>시도명</th>\n",
       "      <th>시군구코드</th>\n",
       "      <th>시군구명</th>\n",
       "      <th>학교명</th>\n",
       "      <th>설립형태 구분명</th>\n",
       "      <th>...</th>\n",
       "      <th>교원 수</th>\n",
       "      <th>특수학급 수</th>\n",
       "      <th>소재지도로명주소</th>\n",
       "      <th>소재지지번주소</th>\n",
       "      <th>홈페이지주소</th>\n",
       "      <th>전화번호</th>\n",
       "      <th>팩스번호</th>\n",
       "      <th>남녀공학구분명</th>\n",
       "      <th>공시차수</th>\n",
       "      <th>데이터기준일자</th>\n",
       "    </tr>\n",
       "  </thead>\n",
       "  <tbody>\n",
       "    <tr>\n",
       "      <th>10846</th>\n",
       "      <td>9290000</td>\n",
       "      <td>제주특별자치도교육청</td>\n",
       "      <td>9299000</td>\n",
       "      <td>제주특별자치도서귀포시교육지원청</td>\n",
       "      <td>50</td>\n",
       "      <td>제주특별자치도</td>\n",
       "      <td>130</td>\n",
       "      <td>서귀포시</td>\n",
       "      <td>대정고등학교</td>\n",
       "      <td>공립</td>\n",
       "      <td>...</td>\n",
       "      <td>43</td>\n",
       "      <td>1</td>\n",
       "      <td>제주특별자치도 서귀포시 대정읍 일주서로2498번길 21</td>\n",
       "      <td>NaN</td>\n",
       "      <td>http://daejeong.jje.hs.kr</td>\n",
       "      <td>064-730-0100</td>\n",
       "      <td>064-794-2070</td>\n",
       "      <td>남</td>\n",
       "      <td>202205</td>\n",
       "      <td>2022-05-31</td>\n",
       "    </tr>\n",
       "    <tr>\n",
       "      <th>10847</th>\n",
       "      <td>9290000</td>\n",
       "      <td>제주특별자치도교육청</td>\n",
       "      <td>9299000</td>\n",
       "      <td>제주특별자치도서귀포시교육지원청</td>\n",
       "      <td>50</td>\n",
       "      <td>제주특별자치도</td>\n",
       "      <td>130</td>\n",
       "      <td>서귀포시</td>\n",
       "      <td>서귀포온성학교</td>\n",
       "      <td>공립</td>\n",
       "      <td>...</td>\n",
       "      <td>45</td>\n",
       "      <td>2</td>\n",
       "      <td>제주특별자치도 서귀포시 516로 447-10</td>\n",
       "      <td>NaN</td>\n",
       "      <td>http://onseong.jje.sc.kr</td>\n",
       "      <td>064-760-8000</td>\n",
       "      <td>064-767-8014</td>\n",
       "      <td>남녀공학</td>\n",
       "      <td>202205</td>\n",
       "      <td>2022-05-31</td>\n",
       "    </tr>\n",
       "    <tr>\n",
       "      <th>10848</th>\n",
       "      <td>9290000</td>\n",
       "      <td>제주특별자치도교육청</td>\n",
       "      <td>9299000</td>\n",
       "      <td>제주특별자치도서귀포시교육지원청</td>\n",
       "      <td>50</td>\n",
       "      <td>제주특별자치도</td>\n",
       "      <td>130</td>\n",
       "      <td>서귀포시</td>\n",
       "      <td>토산초등학교</td>\n",
       "      <td>공립</td>\n",
       "      <td>...</td>\n",
       "      <td>10</td>\n",
       "      <td>0</td>\n",
       "      <td>제주특별자치도 서귀포시 표선면 토산중앙로 68-9</td>\n",
       "      <td>NaN</td>\n",
       "      <td>http://tosan.jje.es.kr</td>\n",
       "      <td>064-780-9200</td>\n",
       "      <td>064-780-9299</td>\n",
       "      <td>남녀공학</td>\n",
       "      <td>202205</td>\n",
       "      <td>2022-05-31</td>\n",
       "    </tr>\n",
       "    <tr>\n",
       "      <th>10849</th>\n",
       "      <td>9290000</td>\n",
       "      <td>제주특별자치도교육청</td>\n",
       "      <td>9299000</td>\n",
       "      <td>제주특별자치도서귀포시교육지원청</td>\n",
       "      <td>50</td>\n",
       "      <td>제주특별자치도</td>\n",
       "      <td>130</td>\n",
       "      <td>서귀포시</td>\n",
       "      <td>남원초등학교</td>\n",
       "      <td>공립</td>\n",
       "      <td>...</td>\n",
       "      <td>24</td>\n",
       "      <td>1</td>\n",
       "      <td>제주특별자치도 서귀포시 남원읍 태위로 647</td>\n",
       "      <td>NaN</td>\n",
       "      <td>http://jjnamwon.jje.es.kr</td>\n",
       "      <td>064-766-4100</td>\n",
       "      <td>064-766-4194</td>\n",
       "      <td>남녀공학</td>\n",
       "      <td>202205</td>\n",
       "      <td>2022-05-31</td>\n",
       "    </tr>\n",
       "    <tr>\n",
       "      <th>10850</th>\n",
       "      <td>9290000</td>\n",
       "      <td>제주특별자치도교육청</td>\n",
       "      <td>9299000</td>\n",
       "      <td>제주특별자치도서귀포시교육지원청</td>\n",
       "      <td>50</td>\n",
       "      <td>제주특별자치도</td>\n",
       "      <td>130</td>\n",
       "      <td>서귀포시</td>\n",
       "      <td>보성초등학교</td>\n",
       "      <td>공립</td>\n",
       "      <td>...</td>\n",
       "      <td>19</td>\n",
       "      <td>0</td>\n",
       "      <td>제주특별자치도 서귀포시 대정읍 추사로55번길 6-1</td>\n",
       "      <td>NaN</td>\n",
       "      <td>http://jejuboseong.jje.es.kr</td>\n",
       "      <td>064-797-3300</td>\n",
       "      <td>064-797-3399</td>\n",
       "      <td>남녀공학</td>\n",
       "      <td>202205</td>\n",
       "      <td>2022-05-31</td>\n",
       "    </tr>\n",
       "  </tbody>\n",
       "</table>\n",
       "<p>5 rows × 26 columns</p>\n",
       "</div>"
      ],
      "text/plain": [
       "       시도교육청코드      시도교육청명  교육지원청코드            교육지원청명  시도코드      시도명  시군구코드  \\\n",
       "10846  9290000  제주특별자치도교육청  9299000  제주특별자치도서귀포시교육지원청    50  제주특별자치도    130   \n",
       "10847  9290000  제주특별자치도교육청  9299000  제주특별자치도서귀포시교육지원청    50  제주특별자치도    130   \n",
       "10848  9290000  제주특별자치도교육청  9299000  제주특별자치도서귀포시교육지원청    50  제주특별자치도    130   \n",
       "10849  9290000  제주특별자치도교육청  9299000  제주특별자치도서귀포시교육지원청    50  제주특별자치도    130   \n",
       "10850  9290000  제주특별자치도교육청  9299000  제주특별자치도서귀포시교육지원청    50  제주특별자치도    130   \n",
       "\n",
       "       시군구명      학교명 설립형태 구분명  ... 교원 수 특수학급 수  \\\n",
       "10846  서귀포시   대정고등학교       공립  ...   43      1   \n",
       "10847  서귀포시  서귀포온성학교       공립  ...   45      2   \n",
       "10848  서귀포시   토산초등학교       공립  ...   10      0   \n",
       "10849  서귀포시   남원초등학교       공립  ...   24      1   \n",
       "10850  서귀포시   보성초등학교       공립  ...   19      0   \n",
       "\n",
       "                             소재지도로명주소 소재지지번주소                        홈페이지주소  \\\n",
       "10846  제주특별자치도 서귀포시 대정읍 일주서로2498번길 21     NaN     http://daejeong.jje.hs.kr   \n",
       "10847        제주특별자치도 서귀포시 516로 447-10     NaN      http://onseong.jje.sc.kr   \n",
       "10848     제주특별자치도 서귀포시 표선면 토산중앙로 68-9     NaN        http://tosan.jje.es.kr   \n",
       "10849        제주특별자치도 서귀포시 남원읍 태위로 647     NaN     http://jjnamwon.jje.es.kr   \n",
       "10850    제주특별자치도 서귀포시 대정읍 추사로55번길 6-1     NaN  http://jejuboseong.jje.es.kr   \n",
       "\n",
       "               전화번호          팩스번호  남녀공학구분명    공시차수     데이터기준일자  \n",
       "10846  064-730-0100  064-794-2070        남  202205  2022-05-31  \n",
       "10847  064-760-8000  064-767-8014     남녀공학  202205  2022-05-31  \n",
       "10848  064-780-9200  064-780-9299     남녀공학  202205  2022-05-31  \n",
       "10849  064-766-4100  064-766-4194     남녀공학  202205  2022-05-31  \n",
       "10850  064-797-3300  064-797-3399     남녀공학  202205  2022-05-31  \n",
       "\n",
       "[5 rows x 26 columns]"
      ]
     },
     "execution_count": 8,
     "metadata": {},
     "output_type": "execute_result"
    }
   ],
   "source": [
    "school.head()"
   ]
  },
  {
   "cell_type": "code",
   "execution_count": 9,
   "id": "11f1a29d",
   "metadata": {},
   "outputs": [],
   "source": [
    "# school 데이터도 위도, 경도 제공하지 않기에 제외\n",
    "# cctv_cnt = get_node_cnt(gps_comb, cctv[['경도', '위도']])\n",
    "# school_cnt = get_node_cnt(gps_comb, school[['경도', '위도']])\n",
    "child_cnt = get_node_cnt(gps_comb, child[['경도', '위도']])\n",
    "parking1_cnt = get_node_cnt(gps_comb, parking1[['경도', '위도']])\n",
    "parking2_cnt = get_node_cnt(gps_comb, parking2[['경도', '위도']])\n",
    "parking_cnt = list(np.array(parking1_cnt) + np.array(parking2_cnt))"
   ]
  },
  {
   "cell_type": "code",
   "execution_count": 10,
   "id": "92fbaa03",
   "metadata": {},
   "outputs": [],
   "source": [
    "# gps_comb['CCTV_cnt'] = cctv_cnt\n",
    "# gps_comb['school_cnt'] = school_cnt\n",
    "gps_comb['child_cnt'] = child_cnt\n",
    "gps_comb['parking_cnt'] = parking_cnt"
   ]
  },
  {
   "cell_type": "code",
   "execution_count": 11,
   "id": "e61462b4",
   "metadata": {},
   "outputs": [],
   "source": [
    "train = pd.merge(train, gps_comb, how = 'left')\n",
    "test = pd.merge(test, gps_comb, how = 'left').fillna(0)"
   ]
  },
  {
   "cell_type": "markdown",
   "id": "8dae61ec",
   "metadata": {},
   "source": [
    "#### 2. 제주 공항까지 거리(km)\n",
    "- train과 test의 시작 위경도 좌표와 제주 공항 위경도 좌표까지의 거리(km)"
   ]
  },
  {
   "cell_type": "code",
   "execution_count": 12,
   "id": "b763f42c",
   "metadata": {},
   "outputs": [],
   "source": [
    "jeju = (33.506683, 126.493177)"
   ]
  },
  {
   "cell_type": "code",
   "execution_count": 13,
   "id": "cc01615f",
   "metadata": {},
   "outputs": [],
   "source": [
    "train['j_a_dist'] = [haversine((v[0], v[1]), jeju, unit = 'km') for v in train[['start_latitude', 'start_longitude']].values]\n",
    "test['j_a_dist'] = [haversine((v[0], v[1]), jeju, unit = 'km') for v in test[['start_latitude', 'start_longitude']].values]"
   ]
  },
  {
   "cell_type": "markdown",
   "id": "eb1840ab",
   "metadata": {},
   "source": [
    "#### 3. 한라산까지 거리(km)\n",
    "- train과 test의 시작 위경도 좌표와 한라산 위경도 좌표까지의 거리(km)"
   ]
  },
  {
   "cell_type": "code",
   "execution_count": 14,
   "id": "9117b6e8",
   "metadata": {},
   "outputs": [],
   "source": [
    "hanla = 33.36168194, 126.5291548"
   ]
  },
  {
   "cell_type": "code",
   "execution_count": 15,
   "id": "b8257f9d",
   "metadata": {},
   "outputs": [],
   "source": [
    "train['h_a_dist'] = [haversine((v[0], v[1]), hanla, unit = 'km') for v in train[['start_latitude', 'start_longitude']].values]\n",
    "test['h_a_dist'] = [haversine((v[0], v[1]), hanla, unit = 'km') for v in test[['start_latitude', 'start_longitude']].values]"
   ]
  },
  {
   "cell_type": "markdown",
   "id": "408ed78b",
   "metadata": {},
   "source": [
    "#### 4. start_node_name과 end_node_name을 key값으로 만들어 LabelEncoding"
   ]
  },
  {
   "cell_type": "code",
   "execution_count": 16,
   "id": "29a35196",
   "metadata": {},
   "outputs": [],
   "source": [
    "le = LabelEncoder()"
   ]
  },
  {
   "cell_type": "code",
   "execution_count": 17,
   "id": "e78b1a28",
   "metadata": {},
   "outputs": [],
   "source": [
    "train['node_combination'] = train['start_node_name'] + '_' + train['end_node_name']\n",
    "test['node_combination'] = test['start_node_name'] + '_' + test['end_node_name']"
   ]
  },
  {
   "cell_type": "code",
   "execution_count": 18,
   "id": "66cf92b9",
   "metadata": {},
   "outputs": [],
   "source": [
    "train['node_combination'] = le.fit_transform(train['node_combination'])"
   ]
  },
  {
   "cell_type": "code",
   "execution_count": 19,
   "id": "dd03b189",
   "metadata": {},
   "outputs": [],
   "source": [
    "for category in np.unique(test['node_combination']) :\n",
    "    if category not in le.classes_ :\n",
    "        le.classes_ = np.append(le.classes_, label)\n",
    "test['node_combination'] = le.transform(test['node_combination'])"
   ]
  },
  {
   "cell_type": "markdown",
   "id": "f7a20c41",
   "metadata": {},
   "source": [
    "#### 5. 위경도 좌표만으로 Clustering(KMeans)\n",
    "- Clustering Plotting 결과 군집 수가 6일 때 각 좌표가 명확히 구분되어 6으로 설정"
   ]
  },
  {
   "cell_type": "code",
   "execution_count": 20,
   "id": "f8ba5a29",
   "metadata": {},
   "outputs": [],
   "source": [
    "km = KMeans(n_clusters = 6, max_iter = 1000, random_state = 42, n_init = 15)"
   ]
  },
  {
   "cell_type": "code",
   "execution_count": 21,
   "id": "b514df01",
   "metadata": {},
   "outputs": [],
   "source": [
    "train['gps_cls'] = km.fit_predict(train[['start_latitude', 'start_longitude', 'end_latitude', 'end_longitude']])\n",
    "test['gps_cls'] = km.predict(test[['start_latitude', 'start_longitude', 'end_latitude', 'end_longitude']])\n",
    "# numpy 버전 1.21.4로 다운그레이드하여 문제 해결 ㅜㅜ"
   ]
  },
  {
   "cell_type": "markdown",
   "id": "976a656d",
   "metadata": {},
   "source": [
    "#### 6. 공휴일 전후 1 ~ 2일 여부\n",
    "\n",
    "- 일반적인 공휴일 기준으로 전후 1 ~ 2일을 기간을 더 두어 binary화"
   ]
  },
  {
   "cell_type": "code",
   "execution_count": 23,
   "id": "c470c4d1",
   "metadata": {},
   "outputs": [],
   "source": [
    "train['base_date'] = train['base_date'].astype(str)\n",
    "test['base_date'] = test['base_date'].astype(str)"
   ]
  },
  {
   "cell_type": "code",
   "execution_count": 24,
   "id": "bd6c1492",
   "metadata": {},
   "outputs": [],
   "source": [
    "train['date'] = train['base_date'].str[4:]\n",
    "test['date'] = test['base_date'].str[4:]"
   ]
  },
  {
   "cell_type": "code",
   "execution_count": 25,
   "id": "b3315848",
   "metadata": {},
   "outputs": [],
   "source": [
    "h_days = ['1231', '0101', '0102', '0129', '0130', '0131', '0201', '0202', '0228', '0229', '0230', '0301', '0302', \n",
    "          '0505', '0506', '0507', '0508', '0605', '0607', '0606', '0814', '0815', '0816', '0920', '0921', '0504',\n",
    "          '0922', '1002', '1003', '1004', '1008', '1009', '1010', '1224', '1225', '1226']"
   ]
  },
  {
   "cell_type": "code",
   "execution_count": 26,
   "id": "1597ce27",
   "metadata": {},
   "outputs": [],
   "source": [
    "train['in_h_days'] = train['date'].isin(h_days)\n",
    "test['in_h_days'] = test['date'].isin(h_days)"
   ]
  },
  {
   "cell_type": "markdown",
   "id": "b24de5ca",
   "metadata": {},
   "source": [
    "#### 7. 년도"
   ]
  },
  {
   "cell_type": "code",
   "execution_count": 27,
   "id": "094314fe",
   "metadata": {},
   "outputs": [],
   "source": [
    "train['base_date'] = pd.to_datetime(train['base_date'])\n",
    "test['base_date'] = pd.to_datetime(test['base_date'])"
   ]
  },
  {
   "cell_type": "code",
   "execution_count": 28,
   "id": "fa9ca5c3",
   "metadata": {},
   "outputs": [],
   "source": [
    "train['year'] = train['base_date'].dt.year\n",
    "test['year'] = test['base_date'].dt.year"
   ]
  },
  {
   "cell_type": "markdown",
   "id": "59f214cd",
   "metadata": {},
   "source": [
    "#### 8. 월"
   ]
  },
  {
   "cell_type": "code",
   "execution_count": 29,
   "id": "85f6a043",
   "metadata": {},
   "outputs": [],
   "source": [
    "train['month'] = train['base_date'].dt.month\n",
    "test['month'] = test['base_date'].dt.month"
   ]
  },
  {
   "cell_type": "markdown",
   "id": "33046297",
   "metadata": {},
   "source": [
    "#### 9. 최고 제한 속도로 도로 주행시 소요 시간"
   ]
  },
  {
   "cell_type": "code",
   "execution_count": 30,
   "id": "a2692ff6",
   "metadata": {},
   "outputs": [],
   "source": [
    "dist = []\n",
    "for i, v in enumerate(train[['start_latitude', 'end_latitude', 'start_longitude', 'end_longitude']].values) :\n",
    "    dist.append(haversine((v[0], v[2]), (v[1], v[3]), unit = 'km'))"
   ]
  },
  {
   "cell_type": "code",
   "execution_count": 31,
   "id": "3c712487",
   "metadata": {},
   "outputs": [],
   "source": [
    "train['at_time'] = 60 * pd.Series(dist) / train['maximum_speed_limit']"
   ]
  },
  {
   "cell_type": "code",
   "execution_count": 32,
   "id": "90023260",
   "metadata": {},
   "outputs": [],
   "source": [
    "dist = []\n",
    "for i, v in enumerate(test[['start_latitude', 'end_latitude', 'start_longitude', 'end_longitude']].values) :\n",
    "    dist.append(haversine((v[0], v[2]), (v[1], v[3]), unit = 'km'))"
   ]
  },
  {
   "cell_type": "code",
   "execution_count": 33,
   "id": "a8fb6aeb",
   "metadata": {},
   "outputs": [],
   "source": [
    "test['at_time'] = 60 * pd.Series(dist) / test['maximum_speed_limit']"
   ]
  },
  {
   "cell_type": "code",
   "execution_count": 34,
   "id": "cc76f814",
   "metadata": {},
   "outputs": [
    {
     "data": {
      "text/plain": [
       "110"
      ]
     },
     "execution_count": 34,
     "metadata": {},
     "output_type": "execute_result"
    }
   ],
   "source": [
    "gc.collect()"
   ]
  },
  {
   "cell_type": "markdown",
   "id": "eb5a05b0",
   "metadata": {},
   "source": [
    "#### 9. 방위각\n",
    "- 각 도로의 start, end node의 위경도 좌표로 해당 도로의 방위각 계산"
   ]
  },
  {
   "cell_type": "code",
   "execution_count": 35,
   "id": "286df959",
   "metadata": {},
   "outputs": [],
   "source": [
    "def Azimuth(lat1, lng1, lat2, lng2):\n",
    "    Lat1 = math.radians(lat1)\n",
    "    Lat2 = math.radians(lat2)\n",
    "    Lng1 = math.radians(lng1)\n",
    "    Lng2 = math.radians(lng2)\n",
    "    \n",
    "    y = math.sin(Lng2 - Lng1) * math.cos(Lat2)\n",
    "    x = math.cos(Lat1) * math.sin(Lat2) - math.sin(Lat1) * math.cos(Lat2) * math.cos(Lng2-Lng1)\n",
    "    z = math.atan2(y, x)\n",
    "\n",
    "    a = np.rad2deg(z)\n",
    "    \n",
    "    if(a < 0):\n",
    "        a = 180 + (180 + a)\n",
    "    return a"
   ]
  },
  {
   "cell_type": "code",
   "execution_count": 36,
   "id": "9b18884f",
   "metadata": {},
   "outputs": [],
   "source": [
    "train['degree'] = [Azimuth(v[0], v[1], v[2], v[3]) for i, v in enumerate(train[['start_latitude', 'start_longitude', 'end_latitude', 'end_longitude']].values)]\n",
    "test['degree'] = [Azimuth(v[0], v[1], v[2], v[3]) for i, v in enumerate(test[['start_latitude', 'start_longitude', 'end_latitude', 'end_longitude']].values)]"
   ]
  },
  {
   "cell_type": "markdown",
   "id": "4be0432f",
   "metadata": {},
   "source": [
    "#### 10. 계절"
   ]
  },
  {
   "cell_type": "code",
   "execution_count": 37,
   "id": "d363a6a9",
   "metadata": {},
   "outputs": [],
   "source": [
    "def get_season(x) :\n",
    "    \n",
    "    if x in [9, 10, 11] :\n",
    "        return 3\n",
    "    elif x in [12, 1, 2] :\n",
    "        return 2\n",
    "    elif x in [3, 4, 5, 6] :\n",
    "        return 1\n",
    "    else :\n",
    "        return 0"
   ]
  },
  {
   "cell_type": "code",
   "execution_count": 38,
   "id": "e967e376",
   "metadata": {},
   "outputs": [],
   "source": [
    "train['season'] = train['month'].apply(get_season)\n",
    "test['season'] = test['month'].apply(get_season)"
   ]
  },
  {
   "cell_type": "markdown",
   "id": "f5e82be1",
   "metadata": {},
   "source": [
    "#### 11. 요일\n",
    "\n",
    "- 일반적인 요일 순서대로가 아닌 LabelEncoding으로 진행"
   ]
  },
  {
   "cell_type": "code",
   "execution_count": 39,
   "id": "8f48f667",
   "metadata": {},
   "outputs": [],
   "source": [
    "train['day_of_week'] = le.fit_transform(train['day_of_week'])"
   ]
  },
  {
   "cell_type": "code",
   "execution_count": 40,
   "id": "1aa37284",
   "metadata": {},
   "outputs": [],
   "source": [
    "for category in np.unique(test['day_of_week']) :\n",
    "    if category not in le.classes_ :\n",
    "        le.classes_ = np.append(le.classes_, label)\n",
    "test['day_of_week'] = le.transform(test['day_of_week'])"
   ]
  },
  {
   "cell_type": "markdown",
   "id": "512fec23",
   "metadata": {},
   "source": [
    "#### 12. 도로명\n",
    "\n",
    "- 도로명 LabelEncoding"
   ]
  },
  {
   "cell_type": "code",
   "execution_count": 41,
   "id": "dbf275a2",
   "metadata": {},
   "outputs": [],
   "source": [
    "train['road_name'] = le.fit_transform(train['road_name'])"
   ]
  },
  {
   "cell_type": "code",
   "execution_count": 42,
   "id": "61cb9976",
   "metadata": {},
   "outputs": [],
   "source": [
    "for category in np.unique(test['road_name']) :\n",
    "    if category not in le.classes_ :\n",
    "        le.classes_ = np.append(le.classes_, label)\n",
    "test['road_name'] = le.transform(test['road_name'])"
   ]
  },
  {
   "cell_type": "markdown",
   "id": "e51d7230",
   "metadata": {},
   "source": [
    "#### 13. 시작 노드 == 종료 노드 여부"
   ]
  },
  {
   "cell_type": "code",
   "execution_count": 43,
   "id": "d9ba05a8",
   "metadata": {},
   "outputs": [],
   "source": [
    "train['node_same'] = train['start_node_name'] == train['end_node_name']\n",
    "test['node_same'] = test['start_node_name'] == test['end_node_name']"
   ]
  },
  {
   "cell_type": "markdown",
   "id": "f5d779f6",
   "metadata": {},
   "source": [
    "#### 14. 기타 컬럼 LabelEncoding"
   ]
  },
  {
   "cell_type": "code",
   "execution_count": 44,
   "id": "589af3a0",
   "metadata": {},
   "outputs": [],
   "source": [
    "train['start_turn_restricted'] = le.fit_transform(train['start_turn_restricted'])"
   ]
  },
  {
   "cell_type": "code",
   "execution_count": 45,
   "id": "57d8edaa",
   "metadata": {},
   "outputs": [],
   "source": [
    "for category in np.unique(test['start_turn_restricted']) :\n",
    "    if category not in le.classes_ :\n",
    "        le.classes_ = np.append(le.classes_, label)\n",
    "test['start_turn_restricted'] = le.transform(test['start_turn_restricted'])"
   ]
  },
  {
   "cell_type": "code",
   "execution_count": 46,
   "id": "444f07d9",
   "metadata": {},
   "outputs": [],
   "source": [
    "train['end_turn_restricted'] = le.fit_transform(train['end_turn_restricted'])"
   ]
  },
  {
   "cell_type": "code",
   "execution_count": 47,
   "id": "ce9b3831",
   "metadata": {},
   "outputs": [],
   "source": [
    "for category in np.unique(test['end_turn_restricted']) :\n",
    "    if category not in le.classes_ :\n",
    "        le.classes_ = np.append(le.classes_, label)\n",
    "test['end_turn_restricted'] = le.transform(test['end_turn_restricted'])"
   ]
  },
  {
   "cell_type": "code",
   "execution_count": 48,
   "id": "b9a9fe96",
   "metadata": {},
   "outputs": [],
   "source": [
    "# 모델링 사용 제외 컬럼 삭제\n",
    "train.drop(['start_node_name', 'end_node_name', 'date', 'base_date'], axis = 1, inplace = True)\n",
    "test.drop(['start_node_name', 'end_node_name', 'date', 'base_date'], axis = 1, inplace = True)"
   ]
  },
  {
   "cell_type": "markdown",
   "id": "12a1d3d8",
   "metadata": {},
   "source": [
    "### Modeling\n",
    "\n",
    "- lane_count를 1, 2, 3으로 나누어 모델링\n",
    "- LGBM, XGBoost는 optuna로 파라미터 튜닝"
   ]
  },
  {
   "cell_type": "code",
   "execution_count": 49,
   "id": "634948bb",
   "metadata": {},
   "outputs": [],
   "source": [
    "X = train.drop(['target'], axis = 1)\n",
    "y = train.target\n",
    "target = test[X.columns]\n",
    "skf = StratifiedKFold(n_splits = 10, random_state = 42, shuffle = True)\n",
    "\n",
    "X1 = X[X['lane_count'] == 1].drop(['lane_count'], axis = 1)\n",
    "X2 = X[X['lane_count'] == 2].drop(['lane_count'], axis = 1)\n",
    "X3 = X[X['lane_count'] == 3].drop(['lane_count'], axis = 1)\n",
    "\n",
    "y1 = y[X1.index]\n",
    "y2 = y[X2.index]\n",
    "y3 = y[X3.index]\n",
    "\n",
    "standard1 = X1['day_of_week']\n",
    "standard2 = X2['day_of_week']\n",
    "standard3 = X3['day_of_week']\n",
    "\n",
    "target1 = target.loc[target['lane_count'] == 1, X1.columns]\n",
    "target2 = target.loc[target['lane_count'] == 2, X2.columns]\n",
    "target3 = target.loc[target['lane_count'] == 3, X3.columns]"
   ]
  },
  {
   "cell_type": "code",
   "execution_count": null,
   "id": "fa11c19d",
   "metadata": {},
   "outputs": [],
   "source": []
  }
 ],
 "metadata": {
  "kernelspec": {
   "display_name": "Python 3 (ipykernel)",
   "language": "python",
   "name": "python3"
  },
  "language_info": {
   "codemirror_mode": {
    "name": "ipython",
    "version": 3
   },
   "file_extension": ".py",
   "mimetype": "text/x-python",
   "name": "python",
   "nbconvert_exporter": "python",
   "pygments_lexer": "ipython3",
   "version": "3.9.7"
  }
 },
 "nbformat": 4,
 "nbformat_minor": 5
}
