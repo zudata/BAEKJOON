{
 "cells": [
  {
   "cell_type": "markdown",
   "id": "fa503bd8",
   "metadata": {},
   "source": [
    "### 제주도 도로 교통량 예측 AI 경진대회\n",
    "\n",
    "#### CatBoost + XGBoost + LGBM Ensemble 모델 (Private 3.08359) (게더타운주민들)"
   ]
  },
  {
   "cell_type": "markdown",
   "id": "34ecb4d5",
   "metadata": {},
   "source": [
    "- 어린이보호구역 : https://www.data.go.kr/data/15012891/standard.do\n",
    "- 무인교통단속카메라 : https://www.data.go.kr/data/15028200/standard.do\n",
    "- 전국초중등학교기본정보 : https://www.data.go.kr/data/15107734/standard.do\n",
    "- 제주도 주차장 : https://www.data.go.kr/data/15012896/standard.do"
   ]
  },
  {
   "cell_type": "code",
   "execution_count": 1,
   "id": "33fe849a",
   "metadata": {},
   "outputs": [],
   "source": [
    "import pandas as pd\n",
    "import numpy as np\n",
    "\n",
    "import warnings\n",
    "warnings.filterwarnings('ignore')\n",
    "\n",
    "import gc\n",
    "\n",
    "from sklearn.preprocessing import LabelEncoder\n",
    "from haversine import haversine\n",
    "from sklearn.cluster import KMeans\n",
    "\n",
    "import math\n",
    "\n",
    "from sklearn.model_selection import StratifiedKFold\n",
    "from sklearn.metrics import mean_absolute_error\n",
    "from catboost import CatBoostRegressor, Pool\n",
    "from lightgbm import LGBMRegressor\n",
    "from xgboost import XGBRegressor"
   ]
  },
  {
   "cell_type": "markdown",
   "id": "4ebc1913",
   "metadata": {},
   "source": [
    "### Data"
   ]
  },
  {
   "cell_type": "code",
   "execution_count": 2,
   "id": "45c381ab",
   "metadata": {},
   "outputs": [],
   "source": [
    "def csv_to_parquet(csv_path, save_name):\n",
    "    df = pd.read_csv(csv_path)\n",
    "    df.to_parquet(f'data/jeju/{save_name}.parquet')\n",
    "    del df\n",
    "    gc.collect()\n",
    "    print(save_name, 'Done.')"
   ]
  },
  {
   "cell_type": "code",
   "execution_count": 3,
   "id": "f7441e6a",
   "metadata": {},
   "outputs": [
    {
     "name": "stdout",
     "output_type": "stream",
     "text": [
      "train Done.\n",
      "test Done.\n"
     ]
    }
   ],
   "source": [
    "csv_to_parquet('data/jeju/train.csv', 'train')\n",
    "csv_to_parquet('data/jeju/test.csv', 'test')"
   ]
  },
  {
   "cell_type": "code",
   "execution_count": 4,
   "id": "de811b1c",
   "metadata": {},
   "outputs": [],
   "source": [
    "train = pd.read_parquet('data/jeju/train.parquet')\n",
    "test = pd.read_parquet('data/jeju/test.parquet')\n",
    "\n",
    "# 불필요 컬럼 삭제\n",
    "train.drop(['vehicle_restricted', 'id', 'height_restricted'], axis = 1, inplace = True)\n",
    "test.drop(['vehicle_restricted', 'id', 'height_restricted'], axis = 1, inplace = True)"
   ]
  },
  {
   "cell_type": "markdown",
   "id": "00fe40fc",
   "metadata": {},
   "source": [
    "### Feature Engineering"
   ]
  },
  {
   "cell_type": "markdown",
   "id": "9c2efbc3",
   "metadata": {},
   "source": [
    "#### 1. 도로 주변 시설 및 구역 수(train 기준)\n",
    "- 공공 데이터 포털에서 2022년 12월 이전 아래 5가지 표준 데이터를 사용\n",
    "    - 무인교통단속카메라\n",
    "    - 전국초중등학교기본정보\n",
    "    - 어린이보호구역\n",
    "    - 제주시 주차장 정보\n",
    "    - 서귀포시 주차장 정보\n",
    "- train의 start_node, end_node의 위경도 좌표의 unique 값만을 활용"
   ]
  },
  {
   "cell_type": "code",
   "execution_count": 5,
   "id": "51dd97f8",
   "metadata": {},
   "outputs": [],
   "source": [
    "# train의 start_node, end_node의 위경도 좌표의 unique 값\n",
    "gps_comb = train[['start_latitude', 'start_longitude', 'end_latitude', 'end_longitude']].drop_duplicates()\n",
    "\n",
    "# 무인교통단속카메라 - 데이터 내려감\n",
    "# cctv = pd.read_csv('경찰청_제주특별자치도경찰청_무인교통단속카메라_20220616.csv', encoding = 'cp949')\n",
    "# cctv = cctv.iloc[:, 3:-7].drop(['소재지도로명주소', '소재지지번주소'], axis = 1)\n",
    "\n",
    "# 초중등학교\n",
    "school = pd.read_csv('data/jeju/한국교육학술정보원_초중등학교기본정보_20221213.csv', encoding = 'cp949')\n",
    "school = school[(school['데이터기준일자'] <= '2022-12-01') & (school['시도교육청명'].str.contains('제주'))]\n",
    "\n",
    "# 어린이 보호 구역\n",
    "child = pd.read_csv('data/jeju/제주특별자치도_어린이보호구역_20221201.csv', encoding = 'cp949')\n",
    "\n",
    "# 제주시 주차장\n",
    "parking1 = pd.read_csv('data/jeju/제주특별자치도_제주시_주차장정보_20210818_1630391997093_77385.csv', encoding = 'cp949')\n",
    "parking1.dropna(subset = ['위도', '경도'], inplace = True)\n",
    "\n",
    "# 서귀포시 주차장\n",
    "parking2 = pd.read_csv('data/jeju/제주특별자치도_서귀포시_주차장정보_20221215.csv', encoding = 'cp949')"
   ]
  },
  {
   "cell_type": "code",
   "execution_count": 6,
   "id": "d01d15af",
   "metadata": {},
   "outputs": [],
   "source": [
    "# 직선과 점 사이의 거리 방정식 활용\n",
    "def cal_dist(x1, y1, x2, y2, a, b):\n",
    "    area = abs((x1 - a) * (y2 - b) - (y1 - b) * (x2 - a))\n",
    "    AB = ((x1 - x2) ** 2 + (y1 - y2) ** 2) ** 0.5\n",
    "    distance = area / AB\n",
    "    return distance"
   ]
  },
  {
   "cell_type": "code",
   "execution_count": 7,
   "id": "e3779640",
   "metadata": {},
   "outputs": [],
   "source": [
    "# train 데이터의 도로와 각 시설 및 구역의 위경도 좌표의 거리(위경도 좌표상 거리)가 0.0005이내일 경우 count +\n",
    "def get_node_cnt(gps_values, infra_values):\n",
    "    cnt = []\n",
    "    for y1, x1, y2, x2 in gps_values.values:\n",
    "        i = 0\n",
    "        for a, b in infra_values.values:\n",
    "            dist = cal_dist(x1, y1, x2, y2, a, b)\n",
    "            if dist < 0.0005:\n",
    "                i += 1\n",
    "            else:\n",
    "                pass\n",
    "        cnt.append(i)\n",
    "    return cnt"
   ]
  },
  {
   "cell_type": "code",
   "execution_count": 8,
   "id": "2c3ffd8f",
   "metadata": {},
   "outputs": [
    {
     "data": {
      "text/html": [
       "<div>\n",
       "<style scoped>\n",
       "    .dataframe tbody tr th:only-of-type {\n",
       "        vertical-align: middle;\n",
       "    }\n",
       "\n",
       "    .dataframe tbody tr th {\n",
       "        vertical-align: top;\n",
       "    }\n",
       "\n",
       "    .dataframe thead th {\n",
       "        text-align: right;\n",
       "    }\n",
       "</style>\n",
       "<table border=\"1\" class=\"dataframe\">\n",
       "  <thead>\n",
       "    <tr style=\"text-align: right;\">\n",
       "      <th></th>\n",
       "      <th>시도교육청코드</th>\n",
       "      <th>시도교육청명</th>\n",
       "      <th>교육지원청코드</th>\n",
       "      <th>교육지원청명</th>\n",
       "      <th>시도코드</th>\n",
       "      <th>시도명</th>\n",
       "      <th>시군구코드</th>\n",
       "      <th>시군구명</th>\n",
       "      <th>학교명</th>\n",
       "      <th>설립형태 구분명</th>\n",
       "      <th>...</th>\n",
       "      <th>교원 수</th>\n",
       "      <th>특수학급 수</th>\n",
       "      <th>소재지도로명주소</th>\n",
       "      <th>소재지지번주소</th>\n",
       "      <th>홈페이지주소</th>\n",
       "      <th>전화번호</th>\n",
       "      <th>팩스번호</th>\n",
       "      <th>남녀공학구분명</th>\n",
       "      <th>공시차수</th>\n",
       "      <th>데이터기준일자</th>\n",
       "    </tr>\n",
       "  </thead>\n",
       "  <tbody>\n",
       "    <tr>\n",
       "      <th>10846</th>\n",
       "      <td>9290000</td>\n",
       "      <td>제주특별자치도교육청</td>\n",
       "      <td>9299000</td>\n",
       "      <td>제주특별자치도서귀포시교육지원청</td>\n",
       "      <td>50</td>\n",
       "      <td>제주특별자치도</td>\n",
       "      <td>130</td>\n",
       "      <td>서귀포시</td>\n",
       "      <td>대정고등학교</td>\n",
       "      <td>공립</td>\n",
       "      <td>...</td>\n",
       "      <td>43</td>\n",
       "      <td>1</td>\n",
       "      <td>제주특별자치도 서귀포시 대정읍 일주서로2498번길 21</td>\n",
       "      <td>NaN</td>\n",
       "      <td>http://daejeong.jje.hs.kr</td>\n",
       "      <td>064-730-0100</td>\n",
       "      <td>064-794-2070</td>\n",
       "      <td>남</td>\n",
       "      <td>202205</td>\n",
       "      <td>2022-05-31</td>\n",
       "    </tr>\n",
       "    <tr>\n",
       "      <th>10847</th>\n",
       "      <td>9290000</td>\n",
       "      <td>제주특별자치도교육청</td>\n",
       "      <td>9299000</td>\n",
       "      <td>제주특별자치도서귀포시교육지원청</td>\n",
       "      <td>50</td>\n",
       "      <td>제주특별자치도</td>\n",
       "      <td>130</td>\n",
       "      <td>서귀포시</td>\n",
       "      <td>서귀포온성학교</td>\n",
       "      <td>공립</td>\n",
       "      <td>...</td>\n",
       "      <td>45</td>\n",
       "      <td>2</td>\n",
       "      <td>제주특별자치도 서귀포시 516로 447-10</td>\n",
       "      <td>NaN</td>\n",
       "      <td>http://onseong.jje.sc.kr</td>\n",
       "      <td>064-760-8000</td>\n",
       "      <td>064-767-8014</td>\n",
       "      <td>남녀공학</td>\n",
       "      <td>202205</td>\n",
       "      <td>2022-05-31</td>\n",
       "    </tr>\n",
       "    <tr>\n",
       "      <th>10848</th>\n",
       "      <td>9290000</td>\n",
       "      <td>제주특별자치도교육청</td>\n",
       "      <td>9299000</td>\n",
       "      <td>제주특별자치도서귀포시교육지원청</td>\n",
       "      <td>50</td>\n",
       "      <td>제주특별자치도</td>\n",
       "      <td>130</td>\n",
       "      <td>서귀포시</td>\n",
       "      <td>토산초등학교</td>\n",
       "      <td>공립</td>\n",
       "      <td>...</td>\n",
       "      <td>10</td>\n",
       "      <td>0</td>\n",
       "      <td>제주특별자치도 서귀포시 표선면 토산중앙로 68-9</td>\n",
       "      <td>NaN</td>\n",
       "      <td>http://tosan.jje.es.kr</td>\n",
       "      <td>064-780-9200</td>\n",
       "      <td>064-780-9299</td>\n",
       "      <td>남녀공학</td>\n",
       "      <td>202205</td>\n",
       "      <td>2022-05-31</td>\n",
       "    </tr>\n",
       "    <tr>\n",
       "      <th>10849</th>\n",
       "      <td>9290000</td>\n",
       "      <td>제주특별자치도교육청</td>\n",
       "      <td>9299000</td>\n",
       "      <td>제주특별자치도서귀포시교육지원청</td>\n",
       "      <td>50</td>\n",
       "      <td>제주특별자치도</td>\n",
       "      <td>130</td>\n",
       "      <td>서귀포시</td>\n",
       "      <td>남원초등학교</td>\n",
       "      <td>공립</td>\n",
       "      <td>...</td>\n",
       "      <td>24</td>\n",
       "      <td>1</td>\n",
       "      <td>제주특별자치도 서귀포시 남원읍 태위로 647</td>\n",
       "      <td>NaN</td>\n",
       "      <td>http://jjnamwon.jje.es.kr</td>\n",
       "      <td>064-766-4100</td>\n",
       "      <td>064-766-4194</td>\n",
       "      <td>남녀공학</td>\n",
       "      <td>202205</td>\n",
       "      <td>2022-05-31</td>\n",
       "    </tr>\n",
       "    <tr>\n",
       "      <th>10850</th>\n",
       "      <td>9290000</td>\n",
       "      <td>제주특별자치도교육청</td>\n",
       "      <td>9299000</td>\n",
       "      <td>제주특별자치도서귀포시교육지원청</td>\n",
       "      <td>50</td>\n",
       "      <td>제주특별자치도</td>\n",
       "      <td>130</td>\n",
       "      <td>서귀포시</td>\n",
       "      <td>보성초등학교</td>\n",
       "      <td>공립</td>\n",
       "      <td>...</td>\n",
       "      <td>19</td>\n",
       "      <td>0</td>\n",
       "      <td>제주특별자치도 서귀포시 대정읍 추사로55번길 6-1</td>\n",
       "      <td>NaN</td>\n",
       "      <td>http://jejuboseong.jje.es.kr</td>\n",
       "      <td>064-797-3300</td>\n",
       "      <td>064-797-3399</td>\n",
       "      <td>남녀공학</td>\n",
       "      <td>202205</td>\n",
       "      <td>2022-05-31</td>\n",
       "    </tr>\n",
       "  </tbody>\n",
       "</table>\n",
       "<p>5 rows × 26 columns</p>\n",
       "</div>"
      ],
      "text/plain": [
       "       시도교육청코드      시도교육청명  교육지원청코드            교육지원청명  시도코드      시도명  시군구코드  \\\n",
       "10846  9290000  제주특별자치도교육청  9299000  제주특별자치도서귀포시교육지원청    50  제주특별자치도    130   \n",
       "10847  9290000  제주특별자치도교육청  9299000  제주특별자치도서귀포시교육지원청    50  제주특별자치도    130   \n",
       "10848  9290000  제주특별자치도교육청  9299000  제주특별자치도서귀포시교육지원청    50  제주특별자치도    130   \n",
       "10849  9290000  제주특별자치도교육청  9299000  제주특별자치도서귀포시교육지원청    50  제주특별자치도    130   \n",
       "10850  9290000  제주특별자치도교육청  9299000  제주특별자치도서귀포시교육지원청    50  제주특별자치도    130   \n",
       "\n",
       "       시군구명      학교명 설립형태 구분명  ... 교원 수 특수학급 수  \\\n",
       "10846  서귀포시   대정고등학교       공립  ...   43      1   \n",
       "10847  서귀포시  서귀포온성학교       공립  ...   45      2   \n",
       "10848  서귀포시   토산초등학교       공립  ...   10      0   \n",
       "10849  서귀포시   남원초등학교       공립  ...   24      1   \n",
       "10850  서귀포시   보성초등학교       공립  ...   19      0   \n",
       "\n",
       "                             소재지도로명주소 소재지지번주소                        홈페이지주소  \\\n",
       "10846  제주특별자치도 서귀포시 대정읍 일주서로2498번길 21     NaN     http://daejeong.jje.hs.kr   \n",
       "10847        제주특별자치도 서귀포시 516로 447-10     NaN      http://onseong.jje.sc.kr   \n",
       "10848     제주특별자치도 서귀포시 표선면 토산중앙로 68-9     NaN        http://tosan.jje.es.kr   \n",
       "10849        제주특별자치도 서귀포시 남원읍 태위로 647     NaN     http://jjnamwon.jje.es.kr   \n",
       "10850    제주특별자치도 서귀포시 대정읍 추사로55번길 6-1     NaN  http://jejuboseong.jje.es.kr   \n",
       "\n",
       "               전화번호          팩스번호  남녀공학구분명    공시차수     데이터기준일자  \n",
       "10846  064-730-0100  064-794-2070        남  202205  2022-05-31  \n",
       "10847  064-760-8000  064-767-8014     남녀공학  202205  2022-05-31  \n",
       "10848  064-780-9200  064-780-9299     남녀공학  202205  2022-05-31  \n",
       "10849  064-766-4100  064-766-4194     남녀공학  202205  2022-05-31  \n",
       "10850  064-797-3300  064-797-3399     남녀공학  202205  2022-05-31  \n",
       "\n",
       "[5 rows x 26 columns]"
      ]
     },
     "execution_count": 8,
     "metadata": {},
     "output_type": "execute_result"
    }
   ],
   "source": [
    "school.head()"
   ]
  },
  {
   "cell_type": "code",
   "execution_count": 9,
   "id": "11f1a29d",
   "metadata": {},
   "outputs": [],
   "source": [
    "# school 데이터도 위도, 경도 제공하지 않기에 제외\n",
    "# cctv_cnt = get_node_cnt(gps_comb, cctv[['경도', '위도']])\n",
    "# school_cnt = get_node_cnt(gps_comb, school[['경도', '위도']])\n",
    "child_cnt = get_node_cnt(gps_comb, child[['경도', '위도']])\n",
    "parking1_cnt = get_node_cnt(gps_comb, parking1[['경도', '위도']])\n",
    "parking2_cnt = get_node_cnt(gps_comb, parking2[['경도', '위도']])\n",
    "parking_cnt = list(np.array(parking1_cnt) + np.array(parking2_cnt))"
   ]
  },
  {
   "cell_type": "code",
   "execution_count": 10,
   "id": "92fbaa03",
   "metadata": {},
   "outputs": [],
   "source": [
    "# gps_comb['CCTV_cnt'] = cctv_cnt\n",
    "# gps_comb['school_cnt'] = school_cnt\n",
    "gps_comb['child_cnt'] = child_cnt\n",
    "gps_comb['parking_cnt'] = parking_cnt"
   ]
  },
  {
   "cell_type": "code",
   "execution_count": 11,
   "id": "e61462b4",
   "metadata": {},
   "outputs": [],
   "source": [
    "train = pd.merge(train, gps_comb, how = 'left')\n",
    "test = pd.merge(test, gps_comb, how = 'left').fillna(0)"
   ]
  },
  {
   "cell_type": "markdown",
   "id": "8dae61ec",
   "metadata": {},
   "source": [
    "#### 2. 제주 공항까지 거리(km)\n",
    "- train과 test의 시작 위경도 좌표와 제주 공항 위경도 좌표까지의 거리(km)"
   ]
  },
  {
   "cell_type": "code",
   "execution_count": 12,
   "id": "b763f42c",
   "metadata": {},
   "outputs": [],
   "source": [
    "jeju = (33.506683, 126.493177)"
   ]
  },
  {
   "cell_type": "code",
   "execution_count": 13,
   "id": "cc01615f",
   "metadata": {},
   "outputs": [],
   "source": [
    "train['j_a_dist'] = [haversine((v[0], v[1]), jeju, unit = 'km') for v in train[['start_latitude', 'start_longitude']].values]\n",
    "test['j_a_dist'] = [haversine((v[0], v[1]), jeju, unit = 'km') for v in test[['start_latitude', 'start_longitude']].values]"
   ]
  },
  {
   "cell_type": "markdown",
   "id": "eb1840ab",
   "metadata": {},
   "source": [
    "#### 3. 한라산까지 거리(km)\n",
    "- train과 test의 시작 위경도 좌표와 한라산 위경도 좌표까지의 거리(km)"
   ]
  },
  {
   "cell_type": "code",
   "execution_count": 14,
   "id": "9117b6e8",
   "metadata": {},
   "outputs": [],
   "source": [
    "hanla = 33.36168194, 126.5291548"
   ]
  },
  {
   "cell_type": "code",
   "execution_count": 15,
   "id": "b8257f9d",
   "metadata": {},
   "outputs": [],
   "source": [
    "train['h_a_dist'] = [haversine((v[0], v[1]), hanla, unit = 'km') for v in train[['start_latitude', 'start_longitude']].values]\n",
    "test['h_a_dist'] = [haversine((v[0], v[1]), hanla, unit = 'km') for v in test[['start_latitude', 'start_longitude']].values]"
   ]
  },
  {
   "cell_type": "markdown",
   "id": "408ed78b",
   "metadata": {},
   "source": [
    "#### 4. start_node_name과 end_node_name을 key값으로 만들어 LabelEncoding"
   ]
  },
  {
   "cell_type": "code",
   "execution_count": 16,
   "id": "29a35196",
   "metadata": {},
   "outputs": [],
   "source": [
    "le = LabelEncoder()"
   ]
  },
  {
   "cell_type": "code",
   "execution_count": 17,
   "id": "e78b1a28",
   "metadata": {},
   "outputs": [],
   "source": [
    "train['node_combination'] = train['start_node_name'] + '_' + train['end_node_name']\n",
    "test['node_combination'] = test['start_node_name'] + '_' + test['end_node_name']"
   ]
  },
  {
   "cell_type": "code",
   "execution_count": 18,
   "id": "66cf92b9",
   "metadata": {},
   "outputs": [],
   "source": [
    "train['node_combination'] = le.fit_transform(train['node_combination'])"
   ]
  },
  {
   "cell_type": "code",
   "execution_count": 19,
   "id": "dd03b189",
   "metadata": {},
   "outputs": [],
   "source": [
    "for category in np.unique(test['node_combination']) :\n",
    "    if category not in le.classes_ :\n",
    "        le.classes_ = np.append(le.classes_, label)\n",
    "test['node_combination'] = le.transform(test['node_combination'])"
   ]
  },
  {
   "cell_type": "markdown",
   "id": "f7a20c41",
   "metadata": {},
   "source": [
    "#### 5. 위경도 좌표만으로 Clustering(KMeans)\n",
    "- Clustering Plotting 결과 군집 수가 6일 때 각 좌표가 명확히 구분되어 6으로 설정"
   ]
  },
  {
   "cell_type": "code",
   "execution_count": 20,
   "id": "f8ba5a29",
   "metadata": {},
   "outputs": [],
   "source": [
    "km = KMeans(n_clusters = 6, max_iter = 1000, random_state = 42, n_init = 15)"
   ]
  },
  {
   "cell_type": "code",
   "execution_count": 21,
   "id": "b514df01",
   "metadata": {},
   "outputs": [],
   "source": [
    "train['gps_cls'] = km.fit_predict(train[['start_latitude', 'start_longitude', 'end_latitude', 'end_longitude']])\n",
    "test['gps_cls'] = km.predict(test[['start_latitude', 'start_longitude', 'end_latitude', 'end_longitude']])\n",
    "# numpy 버전 1.21.4로 다운그레이드하여 문제 해결 ㅜㅜ"
   ]
  },
  {
   "cell_type": "code",
   "execution_count": null,
   "id": "fa11c19d",
   "metadata": {},
   "outputs": [],
   "source": []
  }
 ],
 "metadata": {
  "kernelspec": {
   "display_name": "Python 3 (ipykernel)",
   "language": "python",
   "name": "python3"
  },
  "language_info": {
   "codemirror_mode": {
    "name": "ipython",
    "version": 3
   },
   "file_extension": ".py",
   "mimetype": "text/x-python",
   "name": "python",
   "nbconvert_exporter": "python",
   "pygments_lexer": "ipython3",
   "version": "3.9.7"
  }
 },
 "nbformat": 4,
 "nbformat_minor": 5
}
